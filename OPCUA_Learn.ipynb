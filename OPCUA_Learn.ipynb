{
 "cells": [
  {
   "cell_type": "code",
   "execution_count": 4,
   "metadata": {},
   "outputs": [],
   "source": [
    "pip install opcua\n",
    "\n",
    "from opcua import Server\n",
    "from random import randint\n",
    "import datetime\n",
    "import time\n",
    "\n",
    "server = Server()\n",
    "\n",
    "url = \"opc.tcp://192.168.0.8:4840\"\n",
    "server.set_endpoint(url)\n",
    "\n",
    "name = \"OPC_SIMULATION_SERVER\"\n",
    "addspace = server.register_namespace(name)\n",
    "\n",
    "node = server.get_objects_node()\n",
    "\n",
    "Param = node.add_object(addspace, \"Parameters\")\n",
    "\n",
    "Temp = Param.add_variable(addspace, \"Temperature\", 0)\n",
    "Press = Param.add_variable(addspace, \"Pressure\", 0)\n",
    "Time = Param.add_variable(addspace, \"Time\", 0)\n",
    "\n",
    "Temp.set_writable()\n",
    "Press.set_writable()\n",
    "Time.set_writable()\n",
    "server.start()\n",
    "print(\"Server started at {}\".format(url))\n",
    "\n",
    "while True:\n",
    "    Temperature = randint(10,50)\n",
    "    Pressure = randint(200, 999)\n",
    "    TIME = datetime.datetime.now()\n",
    "\n",
    "    print(Temperature, Pressure, TIME)\n",
    "\n",
    "    Temp.set_value(Temperature)\n",
    "    Press.set_value(Pressure)\n",
    "\n",
    "    Time.set_value(TIME)\n",
    "\n",
    "    time.sleep(2)"
   ]
  },
  {
   "cell_type": "code",
   "execution_count": null,
   "metadata": {},
   "outputs": [],
   "source": []
  }
 ],
 "metadata": {
  "kernelspec": {
   "display_name": "Python 3",
   "language": "python",
   "name": "python3"
  },
  "language_info": {
   "codemirror_mode": {
    "name": "ipython",
    "version": 3
   },
   "file_extension": ".py",
   "mimetype": "text/x-python",
   "name": "python",
   "nbconvert_exporter": "python",
   "pygments_lexer": "ipython3",
   "version": "3.7.6"
  }
 },
 "nbformat": 4,
 "nbformat_minor": 4
}
