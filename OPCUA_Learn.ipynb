{
 "cells": [
  {
   "cell_type": "code",
   "execution_count": 4,
   "metadata": {},
   "outputs": [],
   "source": [
    "#!pip install opcua   -- install the opcua\n",
    "\n",
    "from opcua import Server\n",
    "from random import randint\n",
    "import datetime\n",
    "import time\n",
    "\n",
    "\n",
    "server = Server()\n",
    "\n",
    "url = \"url to be provided\"\n",
    "# get the end point\n",
    "server.set_endpoint(url)\n",
    "\n",
    "name = \"Name of the server \"\n",
    "addspace = server.register_namespace(name)\n",
    "# get the node of the object of the  server\n",
    "node = server.get_objects_node()\n",
    "# First the code needed to add the node\n",
    "\n",
    "root = node.get_root_node()\n",
    "        print(\"Objects node is: \", root)\n",
    "     print(\"Children of root are: \", root.get_children())\n",
    "\n",
    "        # Node objects have methods to read and write node attributes as well as browse or populate address space\n",
    "\n",
    "Param = node.add_object(addspace, \"Node1\")\n",
    "#Fetching the variables\n",
    "var1 = Param.add_variable(addspace, \"Variable 1\", 0)\n",
    "var2 = Param.add_variable(addspace, \"Variable 2\", 0)\n",
    "var3 = Param.add_variable(addspace, \"Variable 3\", 0)\n",
    "var4 = Param.add_variable(addspace, \"Variable 4\", 0)\n",
    "\n",
    "var1.set_writable()\n",
    "var2.set_writable()\n",
    "var4.set_writable()\n",
    "var3.set_writable()\n",
    "server.start()\n",
    "print(\"Server started at {}\".format(url))\n",
    "\n",
    "while True:\n",
    "    # setting varibles randomly to fetch from the machine\n",
    "    var1 = randint(10,50)\n",
    "    var2 = randint(200, 999)\n",
    "    var3 = datetime.datetime.now()\n",
    "     var4 = randint(200, 999)\n",
    "\n",
    "    print(var1,var2,var3,var4)\n",
    "\n",
    "    var1.set_value(var1)\n",
    "    var2.set_value(var2)\n",
    "\n",
    "    var3.set_value(var3)\n",
    "    var4.set_value(var3)\n",
    "    \n",
    "\n",
    "    var3.sleep(2)"
   ]
  },
  {
   "cell_type": "markdown",
   "metadata": {},
   "source": [
    "# Client test"
   ]
  },
  {
   "cell_type": "code",
   "execution_count": null,
   "metadata": {},
   "outputs": [],
   "source": [
    "from opcua import Client\n",
    "import time\n",
    "\n",
    "url = \"to be provided\"\n",
    "\n",
    "client = Client(url)\n",
    "\n",
    "client.connect()\n",
    "print(\"Client is Connected\")\n",
    "\n",
    "while True:\n",
    "           var1 = client.get_node(\"ns=2;i=2\")\n",
    "           var3 = var3.get_value()\n",
    "        print(var3)"
   ]
  }
 ],
 "metadata": {
  "kernelspec": {
   "display_name": "Python 3",
   "language": "python",
   "name": "python3"
  },
  "language_info": {
   "codemirror_mode": {
    "name": "ipython",
    "version": 3
   },
   "file_extension": ".py",
   "mimetype": "text/x-python",
   "name": "python",
   "nbconvert_exporter": "python",
   "pygments_lexer": "ipython3",
   "version": "3.7.6"
  }
 },
 "nbformat": 4,
 "nbformat_minor": 4
}
